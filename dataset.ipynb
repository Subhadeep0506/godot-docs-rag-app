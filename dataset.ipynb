{
 "cells": [
  {
   "cell_type": "code",
   "execution_count": 7,
   "metadata": {},
   "outputs": [
    {
     "data": {
      "text/plain": [
       "True"
      ]
     },
     "execution_count": 7,
     "metadata": {},
     "output_type": "execute_result"
    }
   ],
   "source": [
    "from langchain.document_loaders.pdf import PyMuPDFLoader\n",
    "from langchain.document_loaders.reddit import RedditPostsLoader\n",
    "from langchain_astradb import AstraDBVectorStore\n",
    "from src.services.embeddings_factory import EmbeddingsFactory\n",
    "from src.utils.rtd_reader import ReadTheDocsReader\n",
    "from src.core.infisical import InfisicalClient\n",
    "from src.services.vector_store_factory import VectorStoreFactory\n",
    "import praw\n",
    "\n",
    "from dotenv import load_dotenv\n",
    "load_dotenv()"
   ]
  },
  {
   "cell_type": "markdown",
   "metadata": {},
   "source": [
    "### Readthedocs Loader\n"
   ]
  },
  {
   "cell_type": "code",
   "execution_count": 2,
   "metadata": {},
   "outputs": [],
   "source": [
    "reader = ReadTheDocsReader()\n",
    "docs = reader.load(\n",
    "    directory=\"dataset/rtdocs/docs.godotengine.org/en/latest/getting_started\"\n",
    ")"
   ]
  },
  {
   "cell_type": "code",
   "execution_count": 8,
   "metadata": {},
   "outputs": [
    {
     "name": "stderr",
     "output_type": "stream",
     "text": [
      "2025-04-11 01:05:19 - src.services.embeddings_factory - INFO - Using Sentence Transformers embeddings model.\n",
      "/media/subhadeep/Secondary/Education/Projects/Python/godot-chatbot/src/services/embeddings_factory.py:29: LangChainDeprecationWarning: The class `HuggingFaceEmbeddings` was deprecated in LangChain 0.2.2 and will be removed in 1.0. An updated version of the class exists in the :class:`~langchain-huggingface package and should be used instead. To use it run `pip install -U :class:`~langchain-huggingface` and import as `from :class:`~langchain_huggingface import HuggingFaceEmbeddings``.\n",
      "  return SentenceTransformerEmbeddings(\n"
     ]
    },
    {
     "ename": "ImportError",
     "evalue": "Could not import sentence_transformers python package. Please install it with `pip install sentence-transformers`.",
     "output_type": "error",
     "traceback": [
      "\u001b[0;31m---------------------------------------------------------------------------\u001b[0m",
      "\u001b[0;31mModuleNotFoundError\u001b[0m                       Traceback (most recent call last)",
      "File \u001b[0;32m/media/subhadeep/Secondary/Education/Projects/Python/godot-chatbot/.venv/lib/python3.11/site-packages/langchain_community/embeddings/huggingface.py:84\u001b[0m, in \u001b[0;36mHuggingFaceEmbeddings.__init__\u001b[0;34m(self, **kwargs)\u001b[0m\n\u001b[1;32m     83\u001b[0m \u001b[38;5;28;01mtry\u001b[39;00m:\n\u001b[0;32m---> 84\u001b[0m     \u001b[38;5;28;01mimport\u001b[39;00m\u001b[38;5;250m \u001b[39m\u001b[38;5;21;01msentence_transformers\u001b[39;00m\n\u001b[1;32m     86\u001b[0m \u001b[38;5;28;01mexcept\u001b[39;00m \u001b[38;5;167;01mImportError\u001b[39;00m \u001b[38;5;28;01mas\u001b[39;00m exc:\n",
      "\u001b[0;31mModuleNotFoundError\u001b[0m: No module named 'sentence_transformers'",
      "\nThe above exception was the direct cause of the following exception:\n",
      "\u001b[0;31mImportError\u001b[0m                               Traceback (most recent call last)",
      "Cell \u001b[0;32mIn[8], line 1\u001b[0m\n\u001b[0;32m----> 1\u001b[0m embeddings \u001b[38;5;241m=\u001b[39m \u001b[43mEmbeddingsFactory\u001b[49m\u001b[43m(\u001b[49m\u001b[43m)\u001b[49m\u001b[38;5;241;43m.\u001b[39;49m\u001b[43mget_embeddings\u001b[49m\u001b[43m(\u001b[49m\n\u001b[1;32m      2\u001b[0m \u001b[43m    \u001b[49m\u001b[38;5;124;43m\"\u001b[39;49m\u001b[38;5;124;43msentence-transformers\u001b[39;49m\u001b[38;5;124;43m\"\u001b[39;49m\u001b[43m,\u001b[49m\u001b[43m \u001b[49m\u001b[38;5;124;43m\"\u001b[39;49m\u001b[38;5;124;43mintfloat/multilingual-e5-large-instruct\u001b[39;49m\u001b[38;5;124;43m\"\u001b[39;49m\n\u001b[1;32m      3\u001b[0m \u001b[43m)\u001b[49m\n\u001b[1;32m      5\u001b[0m vs \u001b[38;5;241m=\u001b[39m VectorStoreFactory()\u001b[38;5;241m.\u001b[39mget_vectorstore(\n\u001b[1;32m      6\u001b[0m     vectorstore_service\u001b[38;5;241m=\u001b[39m\u001b[38;5;124m\"\u001b[39m\u001b[38;5;124mastradb\u001b[39m\u001b[38;5;124m\"\u001b[39m,\n\u001b[1;32m      7\u001b[0m     embeddings\u001b[38;5;241m=\u001b[39membeddings,\n\u001b[1;32m      8\u001b[0m )\n",
      "File \u001b[0;32m/media/subhadeep/Secondary/Education/Projects/Python/godot-chatbot/src/services/embeddings_factory.py:29\u001b[0m, in \u001b[0;36mEmbeddingsFactory.get_embeddings\u001b[0;34m(embeddings_service, model_id)\u001b[0m\n\u001b[1;32m     27\u001b[0m logger\u001b[38;5;241m.\u001b[39minfo(\u001b[38;5;124m\"\u001b[39m\u001b[38;5;124mUsing Sentence Transformers embeddings model.\u001b[39m\u001b[38;5;124m\"\u001b[39m)\n\u001b[1;32m     28\u001b[0m \u001b[38;5;28;01mif\u001b[39;00m model_id \u001b[38;5;129;01mis\u001b[39;00m \u001b[38;5;129;01mnot\u001b[39;00m \u001b[38;5;28;01mNone\u001b[39;00m:\n\u001b[0;32m---> 29\u001b[0m     \u001b[38;5;28;01mreturn\u001b[39;00m \u001b[43mSentenceTransformerEmbeddings\u001b[49m\u001b[43m(\u001b[49m\n\u001b[1;32m     30\u001b[0m \u001b[43m        \u001b[49m\u001b[43mmodel_name\u001b[49m\u001b[38;5;241;43m=\u001b[39;49m\u001b[43mmodel_id\u001b[49m\u001b[43m,\u001b[49m\n\u001b[1;32m     31\u001b[0m \u001b[43m        \u001b[49m\u001b[43mmodel_kwargs\u001b[49m\u001b[38;5;241;43m=\u001b[39;49m\u001b[43m{\u001b[49m\u001b[43m  \u001b[49m\n\u001b[1;32m     32\u001b[0m \u001b[43m            \u001b[49m\u001b[38;5;124;43m\"\u001b[39;49m\u001b[38;5;124;43mdevice\u001b[39;49m\u001b[38;5;124;43m\"\u001b[39;49m\u001b[43m:\u001b[49m\u001b[43m \u001b[49m\u001b[43mtorch\u001b[49m\u001b[38;5;241;43m.\u001b[39;49m\u001b[43mdevice\u001b[49m\u001b[43m(\u001b[49m\n\u001b[1;32m     33\u001b[0m \u001b[43m                \u001b[49m\u001b[38;5;124;43m\"\u001b[39;49m\u001b[38;5;124;43mcuda\u001b[39;49m\u001b[38;5;124;43m\"\u001b[39;49m\u001b[43m \u001b[49m\u001b[38;5;28;43;01mif\u001b[39;49;00m\u001b[43m \u001b[49m\u001b[43mtorch\u001b[49m\u001b[38;5;241;43m.\u001b[39;49m\u001b[43mcuda\u001b[49m\u001b[38;5;241;43m.\u001b[39;49m\u001b[43mis_available\u001b[49m\u001b[43m(\u001b[49m\u001b[43m)\u001b[49m\u001b[43m \u001b[49m\u001b[38;5;28;43;01melse\u001b[39;49;00m\u001b[43m \u001b[49m\u001b[38;5;124;43m\"\u001b[39;49m\u001b[38;5;124;43mcpu\u001b[39;49m\u001b[38;5;124;43m\"\u001b[39;49m\n\u001b[1;32m     34\u001b[0m \u001b[43m            \u001b[49m\u001b[43m)\u001b[49m\n\u001b[1;32m     35\u001b[0m \u001b[43m        \u001b[49m\u001b[43m}\u001b[49m\u001b[43m,\u001b[49m\n\u001b[1;32m     36\u001b[0m \u001b[43m    \u001b[49m\u001b[43m)\u001b[49m\n\u001b[1;32m     37\u001b[0m \u001b[38;5;28;01melse\u001b[39;00m:\n\u001b[1;32m     38\u001b[0m     \u001b[38;5;28;01mraise\u001b[39;00m \u001b[38;5;167;01mValueError\u001b[39;00m(\u001b[38;5;124m\"\u001b[39m\u001b[38;5;124mModel is required for SentenceTransformerEmbeddings\u001b[39m\u001b[38;5;124m\"\u001b[39m)\n",
      "File \u001b[0;32m/media/subhadeep/Secondary/Education/Projects/Python/godot-chatbot/.venv/lib/python3.11/site-packages/langchain_core/_api/deprecation.py:216\u001b[0m, in \u001b[0;36mdeprecated.<locals>.deprecate.<locals>.finalize.<locals>.warn_if_direct_instance\u001b[0;34m(self, *args, **kwargs)\u001b[0m\n\u001b[1;32m    214\u001b[0m     warned \u001b[38;5;241m=\u001b[39m \u001b[38;5;28;01mTrue\u001b[39;00m\n\u001b[1;32m    215\u001b[0m     emit_warning()\n\u001b[0;32m--> 216\u001b[0m \u001b[38;5;28;01mreturn\u001b[39;00m \u001b[43mwrapped\u001b[49m\u001b[43m(\u001b[49m\u001b[38;5;28;43mself\u001b[39;49m\u001b[43m,\u001b[49m\u001b[43m \u001b[49m\u001b[38;5;241;43m*\u001b[39;49m\u001b[43margs\u001b[49m\u001b[43m,\u001b[49m\u001b[43m \u001b[49m\u001b[38;5;241;43m*\u001b[39;49m\u001b[38;5;241;43m*\u001b[39;49m\u001b[43mkwargs\u001b[49m\u001b[43m)\u001b[49m\n",
      "File \u001b[0;32m/media/subhadeep/Secondary/Education/Projects/Python/godot-chatbot/.venv/lib/python3.11/site-packages/langchain_community/embeddings/huggingface.py:87\u001b[0m, in \u001b[0;36mHuggingFaceEmbeddings.__init__\u001b[0;34m(self, **kwargs)\u001b[0m\n\u001b[1;32m     84\u001b[0m     \u001b[38;5;28;01mimport\u001b[39;00m\u001b[38;5;250m \u001b[39m\u001b[38;5;21;01msentence_transformers\u001b[39;00m\n\u001b[1;32m     86\u001b[0m \u001b[38;5;28;01mexcept\u001b[39;00m \u001b[38;5;167;01mImportError\u001b[39;00m \u001b[38;5;28;01mas\u001b[39;00m exc:\n\u001b[0;32m---> 87\u001b[0m     \u001b[38;5;28;01mraise\u001b[39;00m \u001b[38;5;167;01mImportError\u001b[39;00m(\n\u001b[1;32m     88\u001b[0m         \u001b[38;5;124m\"\u001b[39m\u001b[38;5;124mCould not import sentence_transformers python package. \u001b[39m\u001b[38;5;124m\"\u001b[39m\n\u001b[1;32m     89\u001b[0m         \u001b[38;5;124m\"\u001b[39m\u001b[38;5;124mPlease install it with `pip install sentence-transformers`.\u001b[39m\u001b[38;5;124m\"\u001b[39m\n\u001b[1;32m     90\u001b[0m     ) \u001b[38;5;28;01mfrom\u001b[39;00m\u001b[38;5;250m \u001b[39m\u001b[38;5;21;01mexc\u001b[39;00m\n\u001b[1;32m     92\u001b[0m \u001b[38;5;28mself\u001b[39m\u001b[38;5;241m.\u001b[39mclient \u001b[38;5;241m=\u001b[39m sentence_transformers\u001b[38;5;241m.\u001b[39mSentenceTransformer(\n\u001b[1;32m     93\u001b[0m     \u001b[38;5;28mself\u001b[39m\u001b[38;5;241m.\u001b[39mmodel_name, cache_folder\u001b[38;5;241m=\u001b[39m\u001b[38;5;28mself\u001b[39m\u001b[38;5;241m.\u001b[39mcache_folder, \u001b[38;5;241m*\u001b[39m\u001b[38;5;241m*\u001b[39m\u001b[38;5;28mself\u001b[39m\u001b[38;5;241m.\u001b[39mmodel_kwargs\n\u001b[1;32m     94\u001b[0m )\n",
      "\u001b[0;31mImportError\u001b[0m: Could not import sentence_transformers python package. Please install it with `pip install sentence-transformers`."
     ]
    }
   ],
   "source": [
    "embeddings = EmbeddingsFactory().get_embeddings(\n",
    "    \"sentence-transformers\", \"intfloat/multilingual-e5-large-instruct\"\n",
    ")\n",
    "\n",
    "vs = VectorStoreFactory().get_vectorstore(\n",
    "    vectorstore_service=\"astradb\",\n",
    "    embeddings=embeddings,\n",
    ")"
   ]
  },
  {
   "cell_type": "code",
   "execution_count": null,
   "metadata": {},
   "outputs": [
    {
     "name": "stderr",
     "output_type": "stream",
     "text": [
      "2025-04-10 12:25:03 - langchain_astradb.vectorstores - INFO - vector store default init, collection 'godot_docs'\n",
      "2025-04-10 12:25:04 - root - INFO - Attempting to fetch keyspace from environment variable 'ASTRA_DB_KEYSPACE'\n",
      "2025-04-10 12:25:04 - root - INFO - Detecting API environment 'prod' from supplied endpoint\n",
      "2025-04-10 12:25:04 - astrapy.data.database - INFO - createCollection('godot_docs')\n",
      "2025-04-10 12:25:05 - httpx - INFO - HTTP Request: POST https://a383bf7d-8870-4ec9-ae8a-8e8b2c6010a0-westus3.apps.astra.datastax.com/api/json/v1/default_keyspace \"HTTP/1.1 200 OK\"\n",
      "2025-04-10 12:25:05 - astrapy.utils.api_commander - WARNING - APICommander about to raise from: [{'message': \"Collection already exists: trying to create Collection ('godot_docs') with different settings\", 'errorCode': 'EXISTING_COLLECTION_DIFFERENT_SETTINGS', 'id': '35579204-43a8-4dc4-a0f1-dac27ee3502d', 'title': 'Collection already exists', 'family': 'REQUEST', 'scope': 'EMPTY'}]\n",
      "2025-04-10 12:25:05 - astrapy.data.database - INFO - findCollections\n",
      "2025-04-10 12:25:05 - httpx - INFO - HTTP Request: POST https://a383bf7d-8870-4ec9-ae8a-8e8b2c6010a0-westus3.apps.astra.datastax.com/api/json/v1/default_keyspace \"HTTP/1.1 200 OK\"\n",
      "2025-04-10 12:25:05 - astrapy.data.database - INFO - finished findCollections\n",
      "/home/user/godot-rag-app/.venv/lib/python3.11/site-packages/langchain_astradb/utils/astradb.py:421: UserWarning: Astra DB collection 'godot_docs' is detected as having indexing turned on for all fields (either created manually or by older versions of this plugin). This implies stricter limitations on the amount of text each string in a document can store. Consider indexing anew on a fresh collection to be able to store longer texts. See https://github.com/langchain-ai/langchain-datastax/blob/main/libs/astradb/README.md#warnings-about-indexing for more details.\n",
      "  if not self._validate_indexing_policy(\n"
     ]
    }
   ],
   "source": [
    "vs = Ve"
   ]
  },
  {
   "cell_type": "code",
   "execution_count": null,
   "metadata": {},
   "outputs": [
    {
     "name": "stderr",
     "output_type": "stream",
     "text": [
      "2025-04-10 12:39:34 - astrapy.data.collection - INFO - inserting 121 documents in 'godot_docs'\n",
      "2025-04-10 12:39:34 - astrapy.data.collection - INFO - insertMany(chunk) on 'godot_docs'\n",
      "2025-04-10 12:39:34 - astrapy.data.collection - INFO - insertMany(chunk) on 'godot_docs'\n",
      "2025-04-10 12:39:34 - astrapy.data.collection - INFO - insertMany(chunk) on 'godot_docs'\n",
      "2025-04-10 12:39:34 - astrapy.data.collection - INFO - insertMany(chunk) on 'godot_docs'\n",
      "2025-04-10 12:39:34 - astrapy.data.collection - INFO - insertMany(chunk) on 'godot_docs'\n",
      "2025-04-10 12:39:36 - httpx - INFO - HTTP Request: POST https://a383bf7d-8870-4ec9-ae8a-8e8b2c6010a0-westus3.apps.astra.datastax.com/api/json/v1/default_keyspace/godot_docs \"HTTP/1.1 200 OK\"\n",
      "2025-04-10 12:39:36 - astrapy.data.collection - INFO - finished insertMany(chunk) on 'godot_docs'\n",
      "2025-04-10 12:39:36 - httpx - INFO - HTTP Request: POST https://a383bf7d-8870-4ec9-ae8a-8e8b2c6010a0-westus3.apps.astra.datastax.com/api/json/v1/default_keyspace/godot_docs \"HTTP/1.1 200 OK\"\n",
      "2025-04-10 12:39:36 - astrapy.data.collection - INFO - finished insertMany(chunk) on 'godot_docs'\n",
      "2025-04-10 12:39:36 - httpx - INFO - HTTP Request: POST https://a383bf7d-8870-4ec9-ae8a-8e8b2c6010a0-westus3.apps.astra.datastax.com/api/json/v1/default_keyspace/godot_docs \"HTTP/1.1 200 OK\"\n",
      "2025-04-10 12:39:36 - astrapy.data.collection - INFO - finished insertMany(chunk) on 'godot_docs'\n",
      "2025-04-10 12:39:36 - astrapy.data.collection - INFO - finished inserting 121 documents in 'godot_docs'\n"
     ]
    }
   ],
   "source": [
    "_ = vs.add_documents(chunks)"
   ]
  },
  {
   "cell_type": "markdown",
   "metadata": {},
   "source": [
    "### Reddit Posts Loader\n"
   ]
  },
  {
   "cell_type": "code",
   "execution_count": 3,
   "metadata": {},
   "outputs": [],
   "source": [
    "reddit_loader = RedditPostsLoader(\n",
    "    client_id=\"\",\n",
    "    client_secret=\"\",\n",
    "    mode=\"subreddit\",\n",
    "    user_agent=\"extractor by  u/Extension-Tap-7488\",\n",
    "    search_queries=[\"godot\"],\n",
    "    categories=[\"new\"],\n",
    "    number_posts=100,\n",
    ")"
   ]
  },
  {
   "cell_type": "code",
   "execution_count": null,
   "metadata": {},
   "outputs": [],
   "source": [
    "docs = reddit_loader.load()\n",
    "docs"
   ]
  },
  {
   "cell_type": "code",
   "execution_count": 1,
   "metadata": {},
   "outputs": [],
   "source": [
    "from src.services.reddit import RedditClient"
   ]
  },
  {
   "cell_type": "code",
   "execution_count": 2,
   "metadata": {},
   "outputs": [],
   "source": [
    "client = RedditClient(\n",
    "    client_id=\"\",\n",
    "    client_secret=\"\",\n",
    "    user_agent=\"extractor by  u/Extension-Tap-7488\",\n",
    ")"
   ]
  },
  {
   "cell_type": "code",
   "execution_count": 7,
   "metadata": {},
   "outputs": [
    {
     "data": {
      "text/plain": [
       "[Document(metadata={'author': Redditor(name='Nepacka'), 'created_utc': 1731011468.0, 'score': 1439, 'upvote_ratio': 0.99, 'num_comments': 62}, page_content='# [Tutorial] Fake 3D Top-Down character in Godot\\n## Comment 0\\nHey, I started a blog, this is my first tutorial / article about doing stuff in godot, tell me what you think :)\\n\\n  \\n[https://gotibo.fr/blog/fake-3d-top-down-character](https://gotibo.fr/blog/fake-3d-top-down-character)\\n## Comment 1\\nIt\\'s really cool! But wouldn\\'t it be technically easier doing the whole thing in actual 3D? Why is 2D better in this case?\\n## Comment 2\\nHow fake could this 3d really be?\\n\\n(Basically I\\'m asking what you mean by \\'fake 3d\\')\\n## Comment 3\\nThat\\'s a really cute duck. And a great tutorial to boot!\\n## Comment 4\\nReally interesting, will have a go implementing this because the art style is interesting although I am currently making a 3d game if the effect is robust enough I may pivot because it looks really great 👍\\n## Comment 5\\nThat duck looks awfully familiar…\\n## Comment 6\\nhttps://preview.redd.it/2mtadvl8lkzd1.jpeg?width=1080&format=pjpg&auto=webp&s=17e30da175cecda01a1da30d670d810099817b6e\\n## Comment 7\\nloved this, maybe add a newsletter or notification so we get notified for new posts somehow?\\n## Comment 8\\nLove the duck :)\\n## Comment 9\\nHoly Moly this is insane\\n## Comment 10\\nWhat\\'s fake 3d?\\n## Comment 11\\nThanks for posting this! I’ll definitely be checking in on your blog. 👍🏻\\n## Comment 12\\nGenuinely excited to read this tonight after work!!\\n\\nThanks for posting and taking the time to write a blog :)\\n## Comment 13\\nAmazing work! But gives me the vibes of \"they were so busy figuring out if they could, that they forgot to wonder if they should\". Please feel free to correct me.\\n## Comment 14\\nyour game feel is so good imo\\n## Comment 15\\nLooks cool\\n## Comment 16\\ngreat work\\n## Comment 17\\nThis is amazing, I saw your guy in the GDQuest course and was really impressed by it, thanks for sharing this, its really appreciated.\\n## Comment 18\\nNice one! I am starting now, but planning for the future, wanted to implement a fake 3D like this one for the characters, where I did not have to design sprites on the typical 8 directions and could instead rotate them.  This looks like a really interesting tutorial to read and play with! \\n\\nDo you reckon this would be exponentially more complicated for more complex characters with weapons, etc, to the point not worth doing?\\n\\nThanks!\\n## Comment 19\\nHow do game devs do that 2.5D-Glow Outline?\\n## Comment 20\\nThanks you just saved my project\\n## Comment 21\\nReally, really cool. Reminds me of this procedural animation video: https://www.youtube.com/watch?v=qlfh_rv6khY\\n\\nIs your game Wild Cosmos made with this technique?\\n## Comment 22\\nAmazing!!\\n## Comment 23\\nI absolutely love your style. How do you do it?\\n## Comment 24\\nAwesome sauce\\n## Comment 25\\nSo cute 🥰 Thank you for sharing\\n## Comment 26\\nIs this in Godot 4.3 ?\\n## Comment 27\\nWhy is this gif 10 hours long'),\n",
       " Document(metadata={'author': Redditor(name='VertexMachine'), 'created_utc': 1731238126.0, 'score': 528, 'upvote_ratio': 0.98, 'num_comments': 42}, page_content='# ohh... he did it again.. another 10h of tutorial video, this time in 3D :)\\n## Comment 0\\n**I want to point very big \"FPS killer\" in this video - \"sphere as particle\".**\\n\\n8:48:15 on video.\\n\\nIt very wrong and bad - never ever use sphere as particle mesh. (just few hundred sphere-particles is already millions polygons)\\n\\n**Make quad-particle as mesh, and add shader-material** \\\\-  in shader use [https://iquilezles.org/articles/intersectors/](https://iquilezles.org/articles/intersectors/) **sphIntersect** \\\\- you can have very easily lighting and glow and everything around it like in real sphere.\\n\\nWith this way - intersect sphere in quad - you can have infinite (millions) particles-sphere with no impact to performance.\\n\\nI have this example - [https://danilw.itch.io/particle-effects-godot3](https://danilw.itch.io/particle-effects-godot3) \\\\- there all sphere-like particles made this way.\\n\\n# EDIT:\\n\\n***I added Godot4 example/test to this context*** \\\\- [Sphere as particle do not use Sphere mesh as particle](https://github.com/danilw/Godot4-Sphere-as-particle-do-not-use-Sphere-mesh-as-particle)\\n## Comment 1\\nHis 2D Godot introduction tutorial was fantastic. Hopefully this one is just as good.\\n## Comment 2\\nNintendo is real quiet since this dropped :)\\n## Comment 3\\nNice nice nice nice\\n## Comment 4\\nClean code for me was amazing to introduce to godot. Now I\\'m studying 3D development and this content will be handy. 10 hours of content is great !\\n## Comment 5\\nThe 2D tutorial video was great. It covered so much and so clearly.\\n## Comment 6\\nwow this is better than many paid courses, there goes my next 10 hours\\n## Comment 7\\nDang, how didn\\'t I know about this guy already? Subscribed.\\n## Comment 8\\nmadlad is a machine\\n## Comment 9\\nCLEARCODE IS BACK\\n## Comment 10\\nClear Code is so good!\\n## Comment 11\\nAh! While this is really good, I thought it was going to feature the system of interactions of elements (water, fire, electricity, etc) so you can easy set things on fire and put it out with water or get struck by lighting if holding metal and so on\\n## Comment 12\\n[deleted]'),\n",
       " Document(metadata={'author': Redditor(name='PLAT0H'), 'created_utc': 1721745851.0, 'score': 490, 'upvote_ratio': 0.99, 'num_comments': 33}, page_content='# A 1 minute tutorial on how to make your 2D paper art look 3D using Godot 4.\\n## Comment 0\\nAh yes, man-made horrors beyond my comprehension, now in 3D :D\\n\\nI\\'m happy to see that the normal map technique worked beautifully, this looks amazing, such a big improvement compared to the previous ones!\\n## Comment 1\\nI think that you could have been more clear on how to color the normal map.\\n## Comment 2\\nFunny vid. Btw you can use normal maps in 2D, and you can also use Blender to bake normal maps as shown [here](https://www.youtube.com/watch?v=gUkY8ZoRfuQ)\\n## Comment 3\\nWell it\\'s the \"paint the normal map\" part that\\'s difficult. While I like the art, it feels like the \"draw the rest of the owl\" thing.\\n## Comment 4\\n\"just draw a normal map, its easy\"\\n\\nme: 🙃 haha brain on fire.\\n## Comment 5\\nreally cool. really look like 3D.\\n## Comment 6\\nOoo that’s cool thank you for the tutorial!\\n## Comment 7\\nI\\'d look at automating the normal map generation part.\\n\\nThere have been tools for autogenerating normal maps for a long time now. Even if you decide to do some manual tweaking I have to think it will be faster to start with something instantly generated that is pretty good.\\n## Comment 8\\nThat’s awesome!\\n## Comment 9\\nI just spent the entire day making normal maps for my pixel art sprites. My mind is blown at how good it looks now. Genuinely the most worth it upgrade I could\\'ve added\\n## Comment 10\\nThis is really useful! Thanks for sharing.\\n## Comment 11\\nI love this. I’ve got a project that desperately needs a little normal mapping. It’s in 3.5.2, though. Good excuse to switch!\\n\\nThank you for your work. I know it’s a short tutorial, but it gives me an idea of where to start, and that’s all I needed.\\xa0\\n## Comment 12\\nThat politician joke made me crack 🤣🤣🤣'),\n",
       " Document(metadata={'author': Redditor(name='xCosmicRaiderx'), 'created_utc': 1709155289.0, 'score': 164, 'upvote_ratio': 0.84, 'num_comments': 86}, page_content='# AITA - Created a 3D Tutorial - First Comment was just Rude\\n&#x200B;\\n\\n[Comments](https://preview.redd.it/zf12fttv6elc1.png?width=1293&format=png&auto=webp&s=fbf4ea0a2addd6a1236406437b0b4e56bb11a090)\\n\\nI, CosmicContender, made a simple 3D Tutorial to a 3D Person game.  First comment on the video is rather rude and nonconstructive.  The tutorial is very basic but allows for beginners to learn the engine, nodes and some 3D mechanics. (\"Tracer\" Recall and Dash)\\n\\nI was hoping the guy would have responded to my first comment on what I can do better so I can produce higher quality content in the future but sadly did not get the reply.\\n\\nBut I feel bad for some reason.\\n\\nSo AITA?\\n\\nTutorial link: [https://www.youtube.com/watch?v=nPlOup67W2k&t=322s](https://www.youtube.com/watch?v=nPlOup67W2k&t=322s)\\n\\nCode - [https://github.com/CosmicGamesDev/3DTutorial](https://github.com/CosmicGamesDev/3DTutorial)\\n\\nEDIT/UPDATE:\\n\\nI dont know if the guy saw this reddit post or what but the comment is now gone from the video and I didnt even have to remove it.  Anyways thank you guys for showing how great the Godot Community is!  Lesson learned to ignore trolls and just move forward!  Thanks all and Go make Games!## Comment 0\\nJust don’t engage. It’s clearly some edgy 17 year old who knows some coding and has a superiority complex. \\n\\nYou’re not the asshole.\\n## Comment 1\\nClearly the guy is just getting your goat, he isn’t saying anything just trashing you. The point is to make you upset. Hopefully you can get a few more constructive comments up and pin one over the troll and move on. “If I made a tutorial no one would come back to you” he hasn’t done anything useful, ignore the best you can and move on\\n## Comment 2\\nI used to feel inauthentic when deleting comments, but Youtube isn\\'t Reddit. You are in control of the comments section on your own videos, and if your channel grows, curation will be up to you. There\\'s nothing wrong with deleting this one and moving on. You can still try to do better in the next video, but if the feedback isn\\'t precise or constructive, then you don\\'t need to leave it up.\\n## Comment 3\\nIs it too late to add chapters/bookmarks to the video?  I like being able to skip to a section I want to rewatch or decide which section I want to watch.  For longer videos being able to navigate is very helpful.  I just don\\'t have time to search through to find the section i want to watch.  I am glad you used those characters as I want to learn to use those models.\\n## Comment 4\\n\"If I start making tutorials-\"\\n\\nIf I had wheels I\\'d be a bicycle. He\\'s just talking shit. Delete him or ignore it.\\n## Comment 5\\nSome people say be matured and keep the negative comments. I disagree. If you think a comment is unreasonably negative like this, delete it. Accept that some people just love making other people upset, but also understand you have to the power to ignore them and block them from your life.\\n\\nLife is too short to be distracted by petty edgy trolls.\\n## Comment 6\\nI might give some advice that sounds cold, but its what I\\'ve learned from being an artist in the public space. You just gotta know this stuff exists and will come your way. Once you kinda really truly realize that, its like, not as big a deal? It still stings, but you just learn to expect edgy insecure ppl on the internet to exist and then youre mentally ready for it. I got trolled on tiktok  and twitch plenty for doing art, by ppl who couldnt even draw. My counter to this was to ignore them like bratty kids... when you behave, you get my attention. So I\\'d say that to you as well, for your mental health and the health of your channel and community, make a note to really highlight the positive comments, bring them up in future videos even, displayed on screen. Literally just ignore this stuff.(publicly, because of course internally you will feel it regardless) The BEST outcome for trolls and bullies is a response, even negative. hell...they WANT the fight... the WORST outcome to them is speaking into a void where they feel unheard and then seeing the positive comments getting noticed and praised.\\n\\n&#x200B;\\n\\nAnyways, I may be wrong, but I\\'ve been in this spot before and that advice not only helped me deal with them like spoiled children, instead of taking it personally, but it massively helped me cultivate a better community built on positive feedback. I wish you the best either way! (Subbed to you so keep teaching! Looking forward to your success!)\\n## Comment 7\\nNice, I was just about to dip my toes into 3D game making, gonna watch it soon\\n## Comment 8\\nNo man, you’re completely fine.\\n\\n Linus from LinusTechTips even [talks about](https://youtu.be/qg0Wfggp-xk?si=QT6vUSMjMxSQuGWW) how he started shadow banning or deleting comments that offer nothing to the conversation. \\n\\nIf the person had offered constructive feedback and a different perspective, then that’s a perfectly fine and engaging comment.\\n## Comment 9\\nOkay don’t feel bad. Fuck that asshole. As someone who makes videos I can’t say I’ve ever had someone be that nasty but I’ve seen a lot of, people blame me for their own mistakes, criticise using animation player over code, not using typing ect. \\n\\nI will be very stern with people and either ask tell them that they don’t need to watch if they don’t like it or I will remove a comment altogether if I feel it is not valuable or mean spirited.\\n\\nSome YouTubers might be professional game devs. But a vast majority of us are not, especially in the Godot niche. It’s just people trying to share what they’ve learned. People take it way too seriously.\\n\\nAnyway just my take.\\n## Comment 10\\nim sorry you got a comment like this. unfortunately that does happen when posting pretty much anything to the internet. there\\'s always someone who had a shitty day or a shitty life who randomly chooses you as an outlet for their anger. even if your tutorial was the shittiest tutorial in the entire world, it deserves to be offered genuine constructive criticism. what this person is doing is just trying to make someone miserable like they are.\\n\\nif he had offered genuine feedback, i would say keep the comment and pin the one with the feedback. but this is just generic internet hating. delete it and try your best to forget about it, you responded as well as you possibly could. good job\\n\\nedit: just noticed their avatar is an anime character on a computer. this is definitely like a 14 year old who thinks he is a coding genius. i wouldnt let this get to you any more than you\\'d let a 10 year old calling you \"stinky\" get to you.\\n## Comment 11\\nHey, Godot is open source, it thrives off of people posting tutorials and learning materials online. We all learn from each other, and we all grow together.\\n\\nGame development is hard. \\n\\nAs a creator, you might even have an obligation to create your comments to promote a good discussion. If you want to engage with people who post negative things, maybe request that they provide specific examples of ways you should improve. We\\'re LEARNING, if they can\\'t help you out others learn by providing specific examples or corrections, delete with no remorse I say.\\n\\nGood for you for taking the time to document your development, and what you\\'ve learned. I haven\\'t started a devlog because of how much time it takes, I barely have enough time to work on a game as it is. Try not to let yourself get distracted by people throwing shade and keep going!\\n\\nPS: Recall is a slick concept. I\\'m not making a 3d platformer, but now that it\\'s in my head, I might implement it somewhere, thanks for the hard work of putting something together for us.\\n## Comment 12\\nyou made a mistake by responding. its hard not to though when it represents 50% of your engagement.\\n## Comment 13\\nnever take an anime avatar seriously is the moral here. delete and move on.\\n## Comment 14\\nCurrently I think there are a lot of toxic bots manage by AI so I would delete all toxic and no constructive comments. I mean... I prefer talk with a life being 😉😉\\n## Comment 15\\nThis is why I have comments on hold before they are released to the comment section, some people are just basement internet dwellers\\n## Comment 16\\nJust because ur code is bad doesn\\'t mean the whole concept is bad for example I have it dev knowledge from web dev. But when I started with gd i used tutorials of people who know less of programming knowledge than me but in my eyes they are the superior ones, they take the time to teach people. It doesn\\'t matter if there\\'s problem with code and how people approach specific issues. Lets say you watch a video and find a better way to perform movement share in comments maybe even the guy who made the video will improve and come back stronger on the next one :D\\n## Comment 17\\nomg. I already subbed to you because I was looking around for, well for actual the simple explanation stuff.\\n\\nF\\\\*ck that guy, as soon as I got to your tutorial I\\'ll leave you a nice written review! I\\'m pretty sure you put a lot of effort into that. Keep at it, we N00bs need people like you!\\n## Comment 18\\nI like your comment in youtube about what godot mechanics you are learning in this tutorial. I haven\\'t seen it before in other tutorials and I think it is really nice little addition. I would suggest though adding that one either in the description of the video or pinning up your own comment so it doesnt get lost when more comments arrive.\\n## Comment 19\\nKeep at it. Never saw that comment. It was never there. Go on with your day with a smile and produce what ever you love and like.\\n## Comment 20\\nDon\\'t feed the troll.\\nThis dude does not deserve your attention.\\n## Comment 21\\nYou know you\\xa0 can just delete the comment, right?\\n## Comment 22\\nSome people will get a year or so of experience or education in a subject and then go online and feign superiority over everyone in the most obnoxious and rude ways. This is one of those people; it has nothing to do with your work.\\n## Comment 23\\nIt\\'s a comment on YouTube? Don\\'t waste any time thinking about it\\n## Comment 24\\nHey I had just started watching your video 😂.  So far it was pretty neat.  I don\\'t really pay attention to negative comments unless they have something of value and most people wanting to learn are likely the same way.  Don\\'t worry too much about it!\\n## Comment 25\\nThank you for producing Godot content that noobs like me can enjoy :)\\n## Comment 26\\nIn future, remove the comment and don\\'t engage. As a content creator, you quickly learn that some people live to be cruel.\\n## Comment 27\\nI got a similar message from the same dude! This stuff doesn\\'t really bother me, because I find those comments funny for the most part. His message was:\\n\\n\"I didn\\'t know that human poo in video game form could be built, good job. You are creating a new genre where you will be the pioneer, \\'Shitty games\\'.\"  \\n\\n\\nThis was in reference to my shitty game. But I don\\'t understand why he would use his youtube account to say this type of stuff, considering its tied to his github and a bunch of other accounts online. But hey, to each their own.\\n## Comment 28\\nYes, you are.  \\n\\n\\nWell, only if AITA means *Am I The Awesome* person who share knowledge for free on the internet.  \\n\\n\\nDon\\'t waste your precious time with haters. Listen to positive comments and constructive criticism only. The rest is garbage.  \\n\\n\\nI will start listening to your endless runner tutorial\\n## Comment 29\\nOh, fuck that guy!\\n\\nAnyone can destroy only a few can create.\\n## Comment 30\\nJudging from the profile picture, it\\'s 100% some kid who finished their first \"How to make an FPS in Godot\" tutorial on YouTube and, as someone else said, has a superiority complex. If they try to get serious in game development, they\\'ll soon learn that people in any form of software development don\\'t talk to each other like that.\\n## Comment 31\\nHis statement is absolutely not helpful and I think it\\'s good that you ask for constructive criticism to improve your content.  \\n\\nHowever, you should have avoided saying that he should make a video himself.  You don\\'t have to be better at something to criticize it.  This statement is just as unconstructive and generalized as his.\\n\\n\\nI don\\'t want to say he\\'s right but you shouldn\\'t get involved at that level\\n## Comment 32\\nYou\\'re gonna need thicker skin if you want to get lots of views on YouTube.\\n\\nJust ignore them.\\n## Comment 33\\nSomeone on the internet said a mean thing. In other news, trees have trunks. Seriously though, if you make content online, it doesn\\'t matter how well you do it, someone will be there to say something nasty. Just ignore it. The second you engage, they won.\\n## Comment 34\\nI would advise to grow a thicker skin, if you\\'re putting something out there there will always be at least one hater (even if there is no reason) and one should always stand above that. Bonus points if you\\'re mature enough to let it sit there and not delete it.\\n## Comment 35\\nHaving any presence online makes you liable to experience unwarranted behaviors from others.\\n## Comment 36\\nYou are trying to help others, you want to improve, there is nothing wrong with what you are doing. Everyone needs to start from somewhere and even teachers need to learn how to teach, we do it by trying and making mistakes! I hope you don\\'t give up and make more tutorials! \\n\\nOh, and thanks a lot!! I was thinking about learning 3d, this post has come at the right time for me hahahah\\n## Comment 37\\nDon\\'t feel bad! There are so many people here that are real assh*les, cowards hidden behind their computers. \\n\\nYou are doing good things, doing something constructive. \\n\\nThey are just adopting destructive behaviors so it can makes them forget for a few seconds how shitty they are.\\n## Comment 38\\nYour comment section is your home. Don\\'t hesitate to keep it clean from toxic waste.\\n## Comment 39\\nYou know he doesn\\'t actually bring anything to the table once he responded to \"do it better and i will delete it\" with \"if i do it you might as well delete it so i wont\"\\n## Comment 40\\nDon’t engage. Delete the comment. Both valid advice and you are clearly NTA. But I would add that your comment comes off like it clearly got under your skin. If you are to engage keep it brief: “what do you feel should be improved?” But really even that’s too much. Just ignore.\\n## Comment 41\\nNot watched the content but you\\'re not the asshole.\\n\\nIt\\'s a troll and you got baited by the troll, it happens to the best of us. Learn the lesson, delete the comment, block the account (if possible, I don\\'t know how youtube works) and move on.\\n## Comment 42\\nI did not see anything wrong with your reply. I have not watched the video, but fully intend to. I subscribed and liked the video. I will watch it when I have time. I am wanting to learn 3D in Godot.\\n## Comment 43\\nYou are not the asshole. In fact I have subscribed and up voted the video, just to offset some of that negativity. Fuck negative comments\\n## Comment 44\\nI\\'ve deleted comments on steam workshop submissions before. There\\'s criticism and then there\\'s just being a baby/asshole, your commenter is the latter. I personally would delete it but a bigger power move might be to pin it so everyone can drag him. Up to you.\\n## Comment 45\\nDon\\'t let it bother you, I appreciate people like you who\\'s willing to share knowledge. Keep it up!\\n## Comment 46\\nIn my experience this community is just chalk full of elitists that will downvote your post just because they didn\\'t understand the question because they\\'ve got hundreds, if not thousands of hours of experience and the question was obvious to them.   \\n\\n\\nI wouldn\\'t let it bother you too much, just keep on keeping on!\\n## Comment 47\\nHaters gonna hate, ain\\'ters gonna ain\\'t\\n## Comment 48\\nUnfortunately the world is full of assholes. Anyone who criticizes in a non-constructive way deserves to be ignored. Constructive criticism in good faith should be appreciated. So I advise you to ignore it, that\\'s what I do at least with my YT channels.\\n## Comment 49\\nYou aren\\'t the asshole.\\nThey are the asshole.\\n\\nThey could have literally pointed out every inefficiency in your code and provided all examples of how it COULD be done more efficiently and THEN insulted you, then at the very least they would have done something useful with their time and provided you with some tips. This would have been semi-acceptable. However, everything they said was neither productive or constructive.\\n\\nYou didn\\'t have to make a video at all. No matter what anyone tells you, there isn\\'t really a \"right\" or \"wrong\" way to code. If you have a goal and you achieve that goal through code, (sure there may be more efficient ways), you achieved something. I\\'m sick and tired of all these coding elitists stomping eachother down instead of helping out. We as indie developers and small studios are supposed to be filling the void that the AAA industry is leaving us with. What you are doing is much bigger than even you yourself may think. It\\'s not just as simple as \"A little Godot tutorial on YouTube\". You are contributing to all the communities that these people come from, who are inquiring about whatever the subject of the video is, not necessarily just the Godot users. For example. If the video is about making an fps controller and someone who uses Unity sees the video, who\\'s to say they don\\'t just say, \"Damn, that looks a lot easier in Godot...\" and then they wanna go try Godot. Now, not only have you gone out of your way to make a video tutorial on using Godot to build an FPS controller, you also introduced them to the Godot engine and its workflow.\\n\\nThe person that wrote you that distasteful comment sees no value in you, so you shouldn\\'t value them or what they have to say either. \\n\\nKeep it up, I appreciate you!\\n## Comment 50\\nNot the asshole. Attention seeking idiot, don\\'t respond further, you only risk having viewers think you\\'re in the wrong. What you responded is fine though.\\n## Comment 51\\nI first wanted to say that\\'s always good to find a grain of truth in this douchenozzles comment and don\\'t throw away a learning opportunity for yourself. But after reading your replies to others in this post I realize that is totally unnecessary! Keep up the good work! And _maybe maybe_ care a little less about shitposters and engagement and find joy in making these vids in them selves?\\nNot the asshole.\\n## Comment 52\\ndude this isn\\'t an AITA moment, you\\'re not even wrong. I do understand where you\\'re coming from, but you\\'re really not supposed to feel bad about helping beginners. I mean i started off godot by watching garbaj tutorials, but i now realize how simplified they are, and how basic the setups are, and though the tutorials aren\\'t meant to be used in commercial games or anything, they\\'re still worth gold, because they can introduce you to the daunting subject that is game dev and start off nice and easy. if someone who used the game engine for a while doesn\\'t understand that then they just forgot who they were x years ago, when they first started game dev'),\n",
       " Document(metadata={'author': Redditor(name='SingerLuch'), 'created_utc': 1724865565.0, 'score': 374, 'upvote_ratio': 1.0, 'num_comments': 10}, page_content='# 3D Lightning thunder shader I\\'m working on [tutorial]\\n## Comment 0\\n[tutorial here](https://gameidea.org/2024/08/28/thunder-lightning-strike-shader-for-godot/). the effect looks a bit unrealistic from borders i believe; but it is acceptable for the project i\\'m working on + the gif is low frame-rate thats why it is too visible.\\n## Comment 1\\nI see shader tutorial in r/unity: I sleep.  \\n  \\nI see shader tutorial in r/Godot: I wake!!\\n## Comment 2\\nlow frame-rate or not, this is impressive!\\n## Comment 3\\nAwesome! Was just thinking about an effect like this, thanks for sharing!\\n## Comment 4\\nHell yeah looks gorg!!!😍\\n## Comment 5\\nreally cool. reminds me of better version of the lightning spell from \"dungeon lords\" 2005. throwback for me lol\\n## Comment 6\\nSick!\\n## Comment 7\\nreally nice!'),\n",
       " Document(metadata={'author': Redditor(name='kiwi404'), 'created_utc': 1680361140.0, 'score': 753, 'upvote_ratio': 1.0, 'num_comments': 13}, page_content='# 3D RPG controller with forground hiding tutorial!\\n## Comment 0\\n[link!](https://www.youtube.com/watch?v=0T-FMkSru64)\\n## Comment 1\\nI see Amogus 3D potential\\n## Comment 2\\nSick saving this. Thanks homie.\\n## Comment 3\\nHardware intensiv?\\n## Comment 4\\nI have all the respect for the people who help others to learn along with them. Thanks, much appreciated. Keep making tutorials if possible.\\n## Comment 5\\nlooks good, the room should be visible when the door opens rather than before you walk in\\n## Comment 6\\nVery crisp 🎉\\n## Comment 7\\nThat looks very cool. Is it available for Godot newbies like me to build on?\\n## Comment 8\\nThat’s so smooth\\n## Comment 9\\nNetjes.'),\n",
       " Document(metadata={'author': Redditor(name='SingerLuch'), 'created_utc': 1734775910.0, 'score': 31, 'upvote_ratio': 0.98, 'num_comments': 7}, page_content=\"# 3D RTS Camera Tutorial (Panning, Zooming, Movement) on Mouse Motion\\n## Comment 0\\nWhy is it so laggy\\n## Comment 1\\nLink: [3D RTS camera in Godot](https://gameidea.org/2024/12/13/how-to-make-an-rts-camera-system-in-godot/)\\n\\nThis is part of my [3D RTS series](https://gameidea.org/2024/12/13/how-to-make-an-rts-game-in-godot/). If you like my work, consider supporting me [on Patreon](http://patreon.com/mujtaba_io) so I can make more of them.\\n## Comment 2\\nI am always happy to see game developers creating new RTS games. It's a longtime favorite genre of mine that I feel has sadly been fading away over the past few years.\"),\n",
       " Document(metadata={'author': Redditor(name='DioBimo'), 'created_utc': 1736442156.0, 'score': 2, 'upvote_ratio': 1.0, 'num_comments': 5}, page_content='# Squash the creeps 3d tutorial, squash not working\\nHi im following the squash the creeps tutorial from the docs and i\\'ve been stuck 2 days on the squash not working, everything works fine but when the player jumps on the mob it does not get squashed\\n\\nhttps://preview.redd.it/nadvc9ip10ce1.png?width=512&format=png&auto=webp&s=be6e9faa4276c36672130fd6fb1b21db6718ab15\\n\\nhttps://preview.redd.it/1pih3b7020ce1.png?width=645&format=png&auto=webp&s=aa5aa41ac25ce6e014cb78b1244cb2ef9afc1856\\n\\n## Comment 0\\nHave you set the group of the mob body?\\n## Comment 1\\nI\\'m not seeing an immediate code or syntax issue.\\n\\nCheck the Collision layers of the player and mobs.\\n\\nhttps://docs.godotengine.org/en/stable/getting_started/first_3d_game/06.jump_and_squash.html#assigning-layers-and-masks\\n\\nWhen debugging you may want to add the occasional Breakpoint (click there line of code just the left of the line number, to add a red dot) or a `print(\"A useful message about where code execution is\")` , to track where the code logic is going.\\n\\ne.g. on line 48 add `print(\"collided with: \", collision.get_collider())`\\n\\nBreakpoints will stop code execution. Letting you examine the source code at that point. Before resuming or stepping past the Breakpoint.\\n\\nIf you\\'re on the Android editor don\\'t use Breakpoints, they\\'re buggy and cause problems. The Runtime will freeze, block the \"Android Back button\", and you\\'ll be unable to return to the Editor, requiring a force close and relaunch.')]"
      ]
     },
     "execution_count": 7,
     "metadata": {},
     "output_type": "execute_result"
    }
   ],
   "source": [
    "docs = client.search_with_query(\n",
    "    query=\"3d tutorials\",\n",
    "    limit=8,\n",
    ")\n",
    "\n",
    "docs"
   ]
  },
  {
   "cell_type": "code",
   "execution_count": 4,
   "metadata": {},
   "outputs": [],
   "source": [
    "from IPython.display import Markdown, display\n",
    "\n",
    "for doc in docs:\n",
    "    display(Markdown(doc.page_content))"
   ]
  }
 ],
 "metadata": {
  "kernelspec": {
   "display_name": ".venv",
   "language": "python",
   "name": "python3"
  },
  "language_info": {
   "codemirror_mode": {
    "name": "ipython",
    "version": 3
   },
   "file_extension": ".py",
   "mimetype": "text/x-python",
   "name": "python",
   "nbconvert_exporter": "python",
   "pygments_lexer": "ipython3",
   "version": "3.11.12"
  }
 },
 "nbformat": 4,
 "nbformat_minor": 2
}
